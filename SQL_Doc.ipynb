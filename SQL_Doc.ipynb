{
 "cells": [
  {
   "cell_type": "code",
   "execution_count": 176,
   "metadata": {},
   "outputs": [],
   "source": [
    "import pandas as pd\n",
    "import re"
   ]
  },
  {
   "cell_type": "markdown",
   "metadata": {},
   "source": [
    "## SQL Read"
   ]
  },
  {
   "cell_type": "code",
   "execution_count": 177,
   "metadata": {},
   "outputs": [],
   "source": [
    "# Leer el archivo .sql\n",
    "with open('Query_polizas_gs.sql', 'r', encoding='utf-8') as file:\n",
    "    sql_query = file.read()"
   ]
  },
  {
   "cell_type": "markdown",
   "metadata": {},
   "source": [
    "## SQL Transformation"
   ]
  },
  {
   "cell_type": "code",
   "execution_count": null,
   "metadata": {},
   "outputs": [],
   "source": [
    "# Define una expresión regular para encontrar todo lo que está entre '--' y '---'\n",
    "patron_1 = r'--Sumery:(.*?)--Step 1:'\n",
    "patron_2 = r'(Step|LC)(.*?)--'\n",
    "\n",
    "# Encuentra todas las coincidencias en el contenido del archivo\n",
    "coincidencias = re.findall(patron_2, sql_query, re.DOTALL)\n",
    "\n",
    "# Se guardar los comentarios en un df y en una lista. \n",
    "list_documentation = []\n",
    "df_documentation = pd.DataFrame ()\n",
    "df_documentation_html = pd.DataFrame ()\n",
    "\n",
    "for coincidencia in coincidencias:\n",
    "    list_documentation.append(str(coincidencia))\n",
    "\n",
    "\n",
    "# Eliminar caracteres especiales de cada elemento de la lista\n",
    "list_documentation = [re.sub(r'(([(]))', '', comentario) for comentario in list_documentation]\n",
    "list_documentation = [re.sub(r'(([)]))', '', comentario) for comentario in list_documentation]\n",
    "list_documentation = [re.sub(r'(([,]))', '', comentario) for comentario in list_documentation]\n",
    "list_documentation = [re.sub(r\"'\", '', comentario) for comentario in list_documentation]\n",
    "\n",
    "# Se guardan los comentarios en un DataFrame\n",
    "df_documentation['comentarios'] = list_documentation\n",
    "df_documentation_html['Comment'] = df_documentation['comentarios'].str.split(':').str[1]\n",
    "\n",
    "# Se crea la campo Order que contiene el orden secuencial de los comentarios\n",
    "df_documentation_html['Order'] = range(1, len(df_documentation) + 1)\n",
    "\n",
    "# Se crea el campo Clase que identifica la clase a la que pertenece cada comentario\n",
    "df_documentation_html['Clase'] = df_documentation['comentarios'].str.split(':').str[0]\n",
    "df_documentation_html['Clase'] = df_documentation_html['Clase'].str.replace('_', '.')\n",
    "df_documentation_html['Clase'] = df_documentation_html['Clase'].str.replace('  ', ' ')\n"
   ]
  },
  {
   "cell_type": "code",
   "execution_count": 217,
   "metadata": {},
   "outputs": [
    {
     "ename": "TypeError",
     "evalue": "expected string or bytes-like object, got 'list'",
     "output_type": "error",
     "traceback": [
      "\u001b[1;31m---------------------------------------------------------------------------\u001b[0m",
      "\u001b[1;31mTypeError\u001b[0m                                 Traceback (most recent call last)",
      "Cell \u001b[1;32mIn[217], line 14\u001b[0m\n\u001b[0;32m     11\u001b[0m \u001b[38;5;28;01mfor\u001b[39;00m elemento \u001b[38;5;129;01min\u001b[39;00m df_documentation_html[\u001b[38;5;124m'\u001b[39m\u001b[38;5;124mComment\u001b[39m\u001b[38;5;124m'\u001b[39m]:\n\u001b[0;32m     12\u001b[0m     line_number\u001b[38;5;241m.\u001b[39mappend(line_count(elemento, sql_query))\n\u001b[1;32m---> 14\u001b[0m line_number \u001b[38;5;241m=\u001b[39m [\u001b[43mre\u001b[49m\u001b[38;5;241;43m.\u001b[39;49m\u001b[43msub\u001b[49m\u001b[43m(\u001b[49m\u001b[38;5;124;43mr\u001b[39;49m\u001b[38;5;124;43m'\u001b[39;49m\u001b[38;5;124;43m(([1]))\u001b[39;49m\u001b[38;5;124;43m'\u001b[39;49m\u001b[43m,\u001b[49m\u001b[43m \u001b[49m\u001b[38;5;124;43m'\u001b[39;49m\u001b[38;5;124;43m'\u001b[39;49m\u001b[43m,\u001b[49m\u001b[43m \u001b[49m\u001b[43mcomentario\u001b[49m\u001b[43m)\u001b[49m \u001b[38;5;28;01mfor\u001b[39;00m comentario \u001b[38;5;129;01min\u001b[39;00m line_number]    \n\u001b[0;32m     15\u001b[0m df_documentation_html[\u001b[38;5;124m'\u001b[39m\u001b[38;5;124mline_number\u001b[39m\u001b[38;5;124m'\u001b[39m] \u001b[38;5;241m=\u001b[39m line_number  \n",
      "File \u001b[1;32mc:\\Users\\Boreal\\AppData\\Local\\Programs\\Python\\Python313\\Lib\\re\\__init__.py:208\u001b[0m, in \u001b[0;36msub\u001b[1;34m(pattern, repl, string, count, flags, *args)\u001b[0m\n\u001b[0;32m    202\u001b[0m     \u001b[38;5;28;01mimport\u001b[39;00m\u001b[38;5;250m \u001b[39m\u001b[38;5;21;01mwarnings\u001b[39;00m\n\u001b[0;32m    203\u001b[0m     warnings\u001b[38;5;241m.\u001b[39mwarn(\n\u001b[0;32m    204\u001b[0m         \u001b[38;5;124m\"\u001b[39m\u001b[38;5;124m'\u001b[39m\u001b[38;5;124mcount\u001b[39m\u001b[38;5;124m'\u001b[39m\u001b[38;5;124m is passed as positional argument\u001b[39m\u001b[38;5;124m\"\u001b[39m,\n\u001b[0;32m    205\u001b[0m         \u001b[38;5;167;01mDeprecationWarning\u001b[39;00m, stacklevel\u001b[38;5;241m=\u001b[39m\u001b[38;5;241m2\u001b[39m\n\u001b[0;32m    206\u001b[0m     )\n\u001b[1;32m--> 208\u001b[0m \u001b[38;5;28;01mreturn\u001b[39;00m \u001b[43m_compile\u001b[49m\u001b[43m(\u001b[49m\u001b[43mpattern\u001b[49m\u001b[43m,\u001b[49m\u001b[43m \u001b[49m\u001b[43mflags\u001b[49m\u001b[43m)\u001b[49m\u001b[38;5;241;43m.\u001b[39;49m\u001b[43msub\u001b[49m\u001b[43m(\u001b[49m\u001b[43mrepl\u001b[49m\u001b[43m,\u001b[49m\u001b[43m \u001b[49m\u001b[43mstring\u001b[49m\u001b[43m,\u001b[49m\u001b[43m \u001b[49m\u001b[43mcount\u001b[49m\u001b[43m)\u001b[49m\n",
      "\u001b[1;31mTypeError\u001b[0m: expected string or bytes-like object, got 'list'"
     ]
    }
   ],
   "source": [
    "# Funcion para identificar a que linea pertenece cada comentario\n",
    "def line_count(cadena, sql):\n",
    "    line_tmp = []\n",
    "    line = [i + 1 for i, linea in enumerate(sql.splitlines()) if cadena in linea]\n",
    "    line_tmp.append(line)\n",
    "    return line_tmp\n",
    "\n",
    "# Se crea el campo line_number ejecuntando la función line_count\n",
    "line_number = []\n",
    "\n",
    "for elemento in df_documentation_html['Comment']:\n",
    "    line_number.append(line_count(elemento, sql_query))\n",
    "\n",
    "line_number = [re.sub(r'(([1]))', '', comentario) for comentario in line_number]    \n",
    "df_documentation_html['line_number'] = line_number  \n",
    "\n",
    "\n"
   ]
  },
  {
   "cell_type": "markdown",
   "metadata": {},
   "source": [
    "## HTML Creation"
   ]
  },
  {
   "cell_type": "code",
   "execution_count": 180,
   "metadata": {},
   "outputs": [
    {
     "name": "stdout",
     "output_type": "stream",
     "text": [
      "Archivo HTML con estilo generado con éxito.\n"
     ]
    }
   ],
   "source": [
    "import pandas as pd\n",
    "\n",
    "# Convertir el DataFrame a HTML sin índice\n",
    "table_html = df_documentation_html.to_html(index=False, escape=False)\n",
    "\n",
    "# Agregar clases específicas a las columnas\n",
    "table_html = table_html.replace(\"<th>Clase</th>\", '<th class=\"Clase\">Clase</th>')\n",
    "table_html = table_html.replace(\"<th>Comment</th>\", '<th class=\"Comment\">Comment</th>')\n",
    "\n",
    "# Agregar clases a las celdas de la columna \"Coment\"\n",
    "for i in range(len(df_documentation_html['Comment'])):\n",
    "    table_html = table_html.replace('<td>', '<td class=\"Comment\">', 1)\n",
    "\n",
    "# Definir el HTML completo con estilos CSS\n",
    "html_string = f\"\"\"\n",
    "<!DOCTYPE html>\n",
    "<html lang=\"es\">\n",
    "<head>\n",
    "    <meta charset=\"UTF-8\">\n",
    "    <meta name=\"viewport\" content=\"width=device-width, initial-scale=1.0\">\n",
    "    <title>Process Tabla de Datos</title>\n",
    "    <style>\n",
    "        body {{\n",
    "            font-family: Arial, sans-serif;\n",
    "            background-color: #2c2c2c;\n",
    "            color: #d3d3d3;\n",
    "            text-align: left;\n",
    "            padding: 20px;\n",
    "        }}\n",
    "        h2 {{\n",
    "            color: #ffffff;\n",
    "        }}\n",
    "        table {{\n",
    "            margin: auto;\n",
    "            border-collapse: collapse;\n",
    "            background-color: #333;\n",
    "            color: #d3d3d3;\n",
    "            text-align: left;\n",
    "            table-layout: auto;  /* Ajusta el ancho de las columnas al contenido */\n",
    "        }}\n",
    "        th, td {{\n",
    "            border-left: none;\n",
    "            border-right: none;\n",
    "            border-top: 0.5px solid #555555;\n",
    "            border-bottom: 0.5px solid #555555;\n",
    "            padding: 10px;\n",
    "            text-align: left;\n",
    "            \n",
    "        }}\n",
    "        th {{\n",
    "            background-color: #444;\n",
    "        }}\n",
    "        .Clase {{\n",
    "            min-width: 100px; /* Ajusta el ancho de la columna Ciudad */\n",
    "        }}\n",
    "\n",
    "    </style>\n",
    "</head>\n",
    "<body>\n",
    "    <h2>Process Comments</h2>\n",
    "    {table_html}\n",
    "</body>\n",
    "</html>\n",
    "\"\"\"\n",
    "\n",
    "# Guardar en un archivo\n",
    "with open(\"tabla.html\", \"w\", encoding=\"utf-8\") as f:\n",
    "    f.write(html_string)\n",
    "\n",
    "print(\"Archivo HTML con estilo generado con éxito.\")\n"
   ]
  }
 ],
 "metadata": {
  "kernelspec": {
   "display_name": "Python 3",
   "language": "python",
   "name": "python3"
  },
  "language_info": {
   "codemirror_mode": {
    "name": "ipython",
    "version": 3
   },
   "file_extension": ".py",
   "mimetype": "text/x-python",
   "name": "python",
   "nbconvert_exporter": "python",
   "pygments_lexer": "ipython3",
   "version": "3.13.1"
  }
 },
 "nbformat": 4,
 "nbformat_minor": 2
}
