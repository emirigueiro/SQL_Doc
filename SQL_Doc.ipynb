{
 "cells": [
  {
   "cell_type": "code",
   "execution_count": 109,
   "metadata": {},
   "outputs": [],
   "source": [
    "import pandas as pd\n",
    "import re"
   ]
  },
  {
   "cell_type": "code",
   "execution_count": 110,
   "metadata": {},
   "outputs": [],
   "source": [
    "# Leer el archivo .sql\n",
    "with open('Query_polizas_gs.sql', 'r', encoding='utf-8') as file:\n",
    "    sql_query = file.read()"
   ]
  },
  {
   "cell_type": "code",
   "execution_count": 111,
   "metadata": {},
   "outputs": [
    {
     "name": "stdout",
     "output_type": "stream",
     "text": [
      "('Step', ' 1: Se obtienen todas las talta de HSBC a excepción de las que provienen de campañas')\n",
      "('LC', ': Se limitan las altas por id de estructura de gestion')\n",
      "('LC', ': Se limita el universo a la primera póliza (certificado)')\n",
      "('Step', ' 2: Proceso para obtener las altas de HSBC que se gestionana a travez de campañas')\n",
      "('Step', ' 2_1: Se genera una temporal con las solicitudes generadas en las campañas de HSBC')\n",
      "('LC', ': Se limita el universo solo a las campañas de HSBC')\n",
      "('LC', ': Trae solamente las gestiones de ventas')\n",
      "('Step', ' 2_2: Cruce con cotizaciones para obtener detalles de la solicitud convertida en póliza')\n",
      "('LC', ': Generarmo un flg para identifiar aquellas pólizas provenientes de campañas')\n",
      "('Step', ' 2_3: Se realiza el cruce con certificados utilizando num_solicitud de campañas y NPOLICY de Certificados para traer las dimensiones de ncertipol, id_producto, id_branch')\n",
      "('LC', ': Generamos un flg para identifiar aquellas pólizas provenientes de campañas')\n",
      "('Step', ' 2_4: Se realiza un cruce con cotizaciones para traer los datos de id_canal y id_subcanal ya que en certificados esta incompleto')\n",
      "('LC', ': Generarmo un flg para identifiar aquellas pólizas provenientes de campañas')\n",
      "('Step', ' 3: unificación entre pólizas provenientes de \"estructura de gestion\" y \"campañias\"')\n",
      "('Step', ' 4: Cruce con certificados para sumar dimensiones: fec_emi, facturacion, tiene_siniestro, ramo, motivo_anulacion y punto de venta')\n",
      "('Step', ' 4_1: Preparacion de la tabla de certificados para dejar la última actualización de cada registro')\n",
      "('LC', ': Se excluyen aquellas pólizas que fueron traspasos ya que no deben ser consideraras altas')\n",
      "('Step', ' 4_2: Join entre las pólizas de HSBC y la tabla de certificados')\n",
      "('LC', ': Se modifica el número de certif. para los productos SIP (Id_producto 5000), por que el premio se carga con número de certificado 1)')\n",
      "('Step', ' 5: Cruce con emisones para traer el dato de premio')\n",
      "('Step', ' 5_1: Preparacion de la tabla de emisiones')\n",
      "('Step', ' 5_2: Se filtran los NTYP y se dejan los registros con la ultima fecha de emisión')\n",
      "('LC', ': Me lo comento Joa (esto se lo informo Dani Cano a ella)')\n",
      "('LC', ': Son los registros con última fecha de emisión')\n",
      "('Step', ' 5_3: Join entre las polizas de HSBC - Certificados con Emisiones')\n",
      "('LC', ': Se crea un flg para identificar aquellas pólizas que no aparecen en \"Certificados\"')\n",
      "('LC', ': Se crea un flg para identificar aquellas pólizas que no tiene dato de premio/prima cargado en emmisiones')\n",
      "('LC', ': Identificamos aquellas solicitudes provenientes de campañas que no terminan en alta')\n",
      "('Step', ' 6: Cruce con estrucutra de gestión para sumar descripciones de códigos')\n",
      "('Step', ' 7: Se corrigue el campo punto_venta para que CVT figure como Telemarketing')\n",
      "('Step', ' 8: Unificación con tabla presupuesto HSBC para sumar al final de la tabla los registros con los datos correspondientes al prespuesto por producto y punto de venta')\n",
      "('Step', ' 8: Final Select')\n"
     ]
    }
   ],
   "source": [
    "# Define una expresión regular para encontrar todo lo que está entre '--' y '---'\n",
    "patron_1 = r'--Sumery:(.*?)-----------------------------------------------------------------------------------------------------------------------------'\n",
    "\n",
    "patron_2 = r'(Step|LC)(.*?)--'\n",
    "\n",
    "patron_3 = r'--(.*?)--'\n",
    "\n",
    "# Encuentra todas las coincidencias en el contenido del archivo\n",
    "coincidencias = re.findall(patron_2, sql_query, re.DOTALL)\n",
    "\n",
    "# Imprime las coincidencias encontradas\n",
    "for coincidencia in coincidencias:\n",
    "    print(coincidencia)"
   ]
  },
  {
   "cell_type": "code",
   "execution_count": 112,
   "metadata": {},
   "outputs": [],
   "source": [
    "#print(sql_query)"
   ]
  }
 ],
 "metadata": {
  "kernelspec": {
   "display_name": "Python 3",
   "language": "python",
   "name": "python3"
  },
  "language_info": {
   "codemirror_mode": {
    "name": "ipython",
    "version": 3
   },
   "file_extension": ".py",
   "mimetype": "text/x-python",
   "name": "python",
   "nbconvert_exporter": "python",
   "pygments_lexer": "ipython3",
   "version": "3.13.1"
  }
 },
 "nbformat": 4,
 "nbformat_minor": 2
}
