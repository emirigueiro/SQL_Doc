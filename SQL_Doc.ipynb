{
 "cells": [
  {
   "cell_type": "code",
   "execution_count": 69,
   "metadata": {},
   "outputs": [],
   "source": [
    "import pandas as pd\n",
    "import re"
   ]
  },
  {
   "cell_type": "markdown",
   "metadata": {},
   "source": [
    "## SQL Read"
   ]
  },
  {
   "cell_type": "code",
   "execution_count": 70,
   "metadata": {},
   "outputs": [],
   "source": [
    "# Leer el archivo .sql\n",
    "with open('Query_polizas_gs.sql', 'r', encoding='utf-8') as file:\n",
    "    sql_query = file.read()"
   ]
  },
  {
   "cell_type": "markdown",
   "metadata": {},
   "source": [
    "## SQL Transformation"
   ]
  },
  {
   "cell_type": "code",
   "execution_count": 71,
   "metadata": {},
   "outputs": [],
   "source": [
    "# Define una expresión regular para encontrar todo lo que está entre '--' y '---'\n",
    "patron_1 = r'--Sumery:(.*?)--Step 1:'\n",
    "\n",
    "patron_2 = r'(Step|LC)(.*?)--'\n",
    "\n",
    "#patron_3 = r'--(.*?)--'\n",
    "\n",
    "# Encuentra todas las coincidencias en el contenido del archivo\n",
    "coincidencias = re.findall(patron_2, sql_query, re.DOTALL)\n",
    "\n",
    "# Se guardar los comentarios en un df y en una lista. \n",
    "list_documentation = []\n",
    "df_documentation = pd.DataFrame ()\n",
    "\n",
    "for coincidencia in coincidencias:\n",
    "    list_documentation.append(str(coincidencia))\n",
    "\n",
    "\n",
    "# Eliminar caracteres especiales de cada elemento de la lista\n",
    "list_documentation = [re.sub(r'(([(]))', '', comentario) for comentario in list_documentation]\n",
    "list_documentation = [re.sub(r'(([)]))', '', comentario) for comentario in list_documentation]\n",
    "list_documentation = [re.sub(r'(([,]))', '', comentario) for comentario in list_documentation]\n",
    "list_documentation = [re.sub(r\"'\", '', comentario) for comentario in list_documentation]\n",
    "\n",
    "df_documentation['comentarios'] = list_documentation\n",
    "df_documentation['orden'] = range(1, len(df_documentation) + 1)\n",
    "df_documentation['clase'] = df_documentation['comentarios'].str.split(':').str[0]\n",
    "df_documentation['contenido'] = df_documentation['comentarios'].str.split(':').str[1]\n",
    "df_documentation['grupo'] = df_documentation['comentarios'].str.extract(r' (\\S+):')\n",
    "# Llenar los valores NaN con una cadena vacía\n",
    "\n",
    "\n",
    "# Limpieza de los comentarios en el DF.\n",
    "\n"
   ]
  },
  {
   "cell_type": "code",
   "execution_count": 72,
   "metadata": {},
   "outputs": [
    {
     "name": "stdout",
     "output_type": "stream",
     "text": [
      "0       Step  1\n",
      "1           LC \n",
      "2           LC \n",
      "3       Step  2\n",
      "4     Step  2_1\n",
      "5           LC \n",
      "6           LC \n",
      "7     Step  2_2\n",
      "8           LC \n",
      "9     Step  2_3\n",
      "10          LC \n",
      "11    Step  2_4\n",
      "12          LC \n",
      "13      Step  3\n",
      "14      Step  4\n",
      "15    Step  4_1\n",
      "16          LC \n",
      "17    Step  4_2\n",
      "18          LC \n",
      "19      Step  5\n",
      "20    Step  5_1\n",
      "21    Step  5_2\n",
      "22          LC \n",
      "23          LC \n",
      "24    Step  5_3\n",
      "25          LC \n",
      "26          LC \n",
      "27          LC \n",
      "28      Step  6\n",
      "29      Step  7\n",
      "30      Step  8\n",
      "31      Step  8\n",
      "Name: clase, dtype: object 0       1\n",
      "1     NaN\n",
      "2     NaN\n",
      "3       2\n",
      "4     2_1\n",
      "5     NaN\n",
      "6     NaN\n",
      "7     2_2\n",
      "8     NaN\n",
      "9     2_3\n",
      "10    NaN\n",
      "11    2_4\n",
      "12    NaN\n",
      "13      3\n",
      "14      4\n",
      "15    4_1\n",
      "16    NaN\n",
      "17    4_2\n",
      "18    NaN\n",
      "19      5\n",
      "20    5_1\n",
      "21    5_2\n",
      "22    NaN\n",
      "23    NaN\n",
      "24    5_3\n",
      "25    NaN\n",
      "26    NaN\n",
      "27    NaN\n",
      "28      6\n",
      "29      7\n",
      "30      8\n",
      "31      8\n",
      "Name: grupo, dtype: object\n"
     ]
    }
   ],
   "source": [
    "print(df_documentation['clase'],df_documentation['grupo'])"
   ]
  },
  {
   "cell_type": "markdown",
   "metadata": {},
   "source": [
    "## HTML Creation"
   ]
  },
  {
   "cell_type": "code",
   "execution_count": 73,
   "metadata": {},
   "outputs": [],
   "source": [
    "# Crear una plantilla básica de HTML\n",
    "html_template = \"\"\"\n",
    "<!DOCTYPE html>\n",
    "<html lang=\"es\">\n",
    "<head>\n",
    "    <meta charset=\"UTF-8\">\n",
    "    <meta name=\"viewport\" content=\"width=device-width, initial-scale=1.0\">\n",
    "    <title>Lista en HTML</title>\n",
    "    <style>\n",
    "        body {\n",
    "            background-color: #333333; /* Gris oscuro */\n",
    "            color: #CCCCCC; /* Letras gris claro */\n",
    "        }\n",
    "        ul {\n",
    "            list-style-type: none;\n",
    "        }\n",
    "        li {\n",
    "            margin: 5px 0;\n",
    "        }\n",
    "    </style>\n",
    "</head>\n",
    "<body>\n",
    "    <ul>\n",
    "\"\"\"\n",
    "\n",
    "# Agregar cada elemento de la lista como un ítem en una lista HTML\n",
    "for elemento in list_documentation:\n",
    "    html_template += f\"        <li>{elemento}</li>\\n\"\n",
    "\n",
    "# Cerrar la etiqueta de la lista y el cuerpo del HTML\n",
    "html_template += \"\"\"\n",
    "    </ul>\n",
    "</body>\n",
    "</html>\n",
    "\"\"\"\n",
    "\n",
    "# Guardar el contenido HTML en un nuevo archivo\n",
    "with open('SQL_Docs.html', 'w', encoding='utf-8') as file:\n",
    "    file.write(html_template)"
   ]
  },
  {
   "cell_type": "code",
   "execution_count": 74,
   "metadata": {},
   "outputs": [],
   "source": [
    "#Transformamnciòn del DataFrame en HTML\n",
    "html_output = df_documentation.to_html()\n",
    "\n",
    "# Guardar el contenido HTML en un nuevo archivo\n",
    "with open('DataFrame.html', 'w', encoding='utf-8') as file:\n",
    "    file.write(html_output)"
   ]
  }
 ],
 "metadata": {
  "kernelspec": {
   "display_name": "Python 3",
   "language": "python",
   "name": "python3"
  },
  "language_info": {
   "codemirror_mode": {
    "name": "ipython",
    "version": 3
   },
   "file_extension": ".py",
   "mimetype": "text/x-python",
   "name": "python",
   "nbconvert_exporter": "python",
   "pygments_lexer": "ipython3",
   "version": "3.13.1"
  }
 },
 "nbformat": 4,
 "nbformat_minor": 2
}
