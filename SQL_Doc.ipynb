{
 "cells": [
  {
   "cell_type": "code",
   "execution_count": 28,
   "metadata": {},
   "outputs": [],
   "source": [
    "import pandas as pd\n",
    "import re\n",
    "from itertools import chain  "
   ]
  },
  {
   "cell_type": "markdown",
   "metadata": {},
   "source": [
    "## SQL Read"
   ]
  },
  {
   "cell_type": "code",
   "execution_count": 29,
   "metadata": {},
   "outputs": [],
   "source": [
    "# Leer el archivo .sql\n",
    "with open('Query_polizas_gs.sql', 'r', encoding='utf-8') as file:\n",
    "    sql_query = file.read()"
   ]
  },
  {
   "cell_type": "markdown",
   "metadata": {},
   "source": [
    "## Summary Tranformation "
   ]
  },
  {
   "cell_type": "code",
   "execution_count": 30,
   "metadata": {},
   "outputs": [],
   "source": [
    "# Define una expresión regular para encontrar la descripcion general de la query.\n",
    "patron = r'--Summary:(.*?)Sources:'\n",
    "\n",
    "# Encuentra todas las coincidencias en el contenido del archivo\n",
    "coincidencias = re.findall(patron, sql_query, re.DOTALL)\n",
    "\n",
    "# Concatenar las coincidencias en una sola cadena de texto\n",
    "summary_docs = '\\n'.join(coincidencias).strip()\n",
    "summary_docs = summary_docs.replace('-', ' ')\n",
    "\n",
    "# Resaltar en negrita algunas palabras en summary_docs y agregar iconos al principio\n",
    "summary_docs = summary_docs.replace('Created Date:', '<i class=\"fas fa-calendar-alt icono\"></i> <b>Created Date:</b>')\n",
    "summary_docs = summary_docs.replace('Description:', '<i class=\"fa-solid fa-pen-to-square icono\"></i> <b>Description:</b>')\n",
    "summary_docs = summary_docs.replace('References:', '<i class=\"fas fa-book icono\"></i> <b>References:</b>')   \n"
   ]
  },
  {
   "cell_type": "markdown",
   "metadata": {},
   "source": [
    "## Source Transformation"
   ]
  },
  {
   "cell_type": "code",
   "execution_count": 34,
   "metadata": {},
   "outputs": [
    {
     "name": "stdout",
     "output_type": "stream",
     "text": [
      "rod_bronze.engage.cust_gestiones.\n",
      "prod_bronze.mktinfo.cotizacion_vt7.\n",
      "prod_gold_summarized.migs_upgraded.certificados\n",
      "prod_bronze.vt7.qv_vt7_estructuragestion.\n",
      "prod_gold_summarized.migs_upgraded.emision\n",
      "hive_metastore.default.hsbc_presupuestos\n",
      "\n",
      "\n"
     ]
    }
   ],
   "source": [
    "# Define una expresión regular para encontrar la descripcion general de la query.\n",
    "patron = r'--Sources:(.*?)Products:'\n",
    "\n",
    "# Encuentra todas las coincidencias en el contenido del archivo\n",
    "coincidencias = re.findall(patron, sql_query, re.DOTALL)\n",
    "\n",
    "# Concatenar las coincidencias en una sola cadena de texto\n",
    "source_docs = '\\n'.join(coincidencias).strip()\n",
    "source_docs  = source_docs .replace('-', ' ')\n",
    "source_docs  = source_docs .replace(' ', '')\n",
    "\n",
    "\n",
    "print(source_docs )"
   ]
  },
  {
   "cell_type": "markdown",
   "metadata": {},
   "source": [
    "## Comments Transformation"
   ]
  },
  {
   "cell_type": "code",
   "execution_count": 31,
   "metadata": {},
   "outputs": [],
   "source": [
    "# Define una expresión regular para encontrar todo los comentarios\n",
    "patron = r'(Step|LC)(.*?)--'\n",
    "\n",
    "# Encuentra todas las coincidencias en el contenido del archivo\n",
    "coincidencias = re.findall(patron, sql_query, re.DOTALL)\n",
    "\n",
    "# Se guardar los comentarios en un df y en una lista. \n",
    "list_documentation = []\n",
    "df_documentation = pd.DataFrame ()\n",
    "df_documentation_html = pd.DataFrame ()\n",
    "\n",
    "for coincidencia in coincidencias:\n",
    "    list_documentation.append(str(coincidencia))\n",
    "\n",
    "\n",
    "# Eliminar caracteres especiales de cada elemento de la lista\n",
    "list_documentation = [re.sub(r\"\\)$\", \"\", comentario, count=1) for comentario in list_documentation]\n",
    "list_documentation = [re.sub(r\"^\\(\", \"\", comentario, count=1) for comentario in list_documentation]\n",
    "list_documentation = [re.sub(r\"'\", '', comentario) for comentario in list_documentation]\n",
    "\n",
    "# Se guardan los comentarios en un DataFrame\n",
    "df_documentation['comentarios'] = list_documentation\n",
    "df_documentation_html['Comment'] = df_documentation['comentarios'].str.split(':').str[1]\n",
    "\n",
    "# Se crea la campo Order que contiene el orden secuencial de los comentarios\n",
    "df_documentation_html['Order'] = range(1, len(df_documentation) + 1)\n",
    "\n",
    "# Se crea el campo Clase que identifica la clase a la que pertenece cada comentario\n",
    "df_documentation_html['Clase'] = df_documentation['comentarios'].str.split(':').str[0]\n",
    "df_documentation_html['Clase'] = df_documentation_html['Clase'].str.replace('_', '.')\n",
    "df_documentation_html['Clase'] = df_documentation_html['Clase'].str.replace('  ', ' ')\n",
    "df_documentation_html['Clase'] = df_documentation_html['Clase'].str.replace(',', ' ')\n",
    "\n",
    "# Funcion para identificar a que linea pertenece cada comentario\n",
    "def line_count(cadena, sql):\n",
    "    line_tmp = []\n",
    "    line = [i + 1 for i, linea in enumerate(sql.splitlines()) if cadena in linea]\n",
    "    line_tmp.append(line)\n",
    "    return line_tmp\n",
    "\n",
    "# Se crea el campo line_number ejecuntando la función line_count\n",
    "line_number = []\n",
    "\n",
    "for elemento in df_documentation_html['Comment']:\n",
    "    line_number.append(line_count(elemento, sql_query)) \n",
    "\n",
    "line_number = list(chain(*line_number))\n",
    "\n",
    "df_documentation_html['Line Number'] = line_number  \n",
    "\n",
    "# Orden de las columnas del DataFrame\n",
    "df_documentation_html = df_documentation_html[['Order', 'Clase', 'Comment', 'Line Number']]\n",
    "\n"
   ]
  },
  {
   "cell_type": "markdown",
   "metadata": {},
   "source": [
    "## HTML Creation"
   ]
  },
  {
   "cell_type": "code",
   "execution_count": 32,
   "metadata": {},
   "outputs": [
    {
     "name": "stdout",
     "output_type": "stream",
     "text": [
      "Archivo HTML generado con éxito.\n"
     ]
    }
   ],
   "source": [
    "import pandas as pd\n",
    "\n",
    "# Convertir el DataFrame a HTML sin índice\n",
    "table_html = df_documentation_html.to_html(index=False, escape=False)\n",
    "\n",
    "# Agregar clases específicas a las columnas\n",
    "table_html = table_html.replace(\"<th>Clase</th>\", '<th class=\"Clase\">Clase</th>')\n",
    "table_html = table_html.replace(\"<th>Comment</th>\", '<th class=\"Comment\">Comment</th>')\n",
    "\n",
    "# Agregar un título dentro de summary_docs\n",
    "summary_docs = f\"<h4 style='margin: 5px 0;'>Resumen de la consulta</h4>\\n{summary_docs}\"\n",
    "\n",
    "# Agregar clases a las celdas de la columna \"Comment\"\n",
    "for i in range(len(df_documentation_html['Comment'])):\n",
    "    table_html = table_html.replace('<td>', '<td class=\"Comment\">', 1)\n",
    "\n",
    "# Definir el HTML completo con estilos CSS\n",
    "html_string = f\"\"\"\n",
    "<!DOCTYPE html>\n",
    "<html lang=\"es\">\n",
    "<head>\n",
    "    <meta charset=\"UTF-8\">\n",
    "    <meta name=\"viewport\" content=\"width=device-width, initial-scale=1.0\">\n",
    "    <title>Process Tabla de Datos</title>\n",
    "    <link rel=\"stylesheet\" href=\"https://cdnjs.cloudflare.com/ajax/libs/font-awesome/6.0.0-beta3/css/all.min.css\">\n",
    "    <style>\n",
    "        body {{\n",
    "            font-family: Arial, sans-serif;\n",
    "            background-color: #2c2c2c;\n",
    "            color: #d3d3d3;\n",
    "            text-align: left;\n",
    "            padding: 20px;\n",
    "        }}\n",
    "        h2 {{\n",
    "            color: #ffffff;\n",
    "        }}\n",
    "        table {{\n",
    "            margin: auto;\n",
    "            border-collapse: collapse;\n",
    "            background-color: #333;\n",
    "            color: #d3d3d3;\n",
    "            text-align: left;\n",
    "            table-layout: auto;  /* Ajusta el ancho de las columnas al contenido */\n",
    "        }}\n",
    "        th, td {{\n",
    "            border-left: none;\n",
    "            border-right: none;\n",
    "            border-top: 0.5px solid #555555;\n",
    "            border-bottom: 0.5px solid #555555;\n",
    "            padding: 10px;\n",
    "            text-align: left;\n",
    "            \n",
    "        }}\n",
    "        th {{\n",
    "            background-color: #444;\n",
    "        }}\n",
    "        .Clase {{\n",
    "            min-width: 100px; /* Ajusta el ancho de la columna Ciudad */\n",
    "        }}\n",
    "        .summary {{\n",
    "            font-family: Arial, sans-serif;\n",
    "            font-size: 17px; /* Aumenta el tamaño de la letra */\n",
    "            background-color: #f9f9f9;\n",
    "            color: #343434;\n",
    "            text-align: left;\n",
    "            margin: 10px 0 10px 0; /* Ajusta el margen superior e inferior */\n",
    "            padding: 10px;\n",
    "            border-radius: 10px; /* Redondea los bordes */\n",
    "        }}\n",
    "        .icono {{\n",
    "            color: #32587e; /* Cambia el color del icono */\n",
    "        }}\n",
    "    </style>\n",
    "</head>\n",
    "<body>\n",
    "    <h2>Summary</h2>\n",
    "    <pre class=\"summary\">{summary_docs}</pre>\n",
    "    <h2>Process Comments</h2>\n",
    "    {table_html}\n",
    "</body>\n",
    "</html>\n",
    "\"\"\"\n",
    "\n",
    "# Guardar en un archivo\n",
    "with open(\"tabla.html\", \"w\", encoding=\"utf-8\") as f:\n",
    "    f.write(html_string)\n",
    "\n",
    "print(\"Archivo HTML generado con éxito.\")\n"
   ]
  }
 ],
 "metadata": {
  "kernelspec": {
   "display_name": "Python 3",
   "language": "python",
   "name": "python3"
  },
  "language_info": {
   "codemirror_mode": {
    "name": "ipython",
    "version": 3
   },
   "file_extension": ".py",
   "mimetype": "text/x-python",
   "name": "python",
   "nbconvert_exporter": "python",
   "pygments_lexer": "ipython3",
   "version": "3.13.1"
  }
 },
 "nbformat": 4,
 "nbformat_minor": 2
}
