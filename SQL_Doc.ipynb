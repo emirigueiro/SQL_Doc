{
 "cells": [
  {
   "cell_type": "code",
   "execution_count": 80,
   "metadata": {},
   "outputs": [],
   "source": [
    "import pandas as pd\n",
    "import re"
   ]
  },
  {
   "cell_type": "markdown",
   "metadata": {},
   "source": [
    "## SQL Read"
   ]
  },
  {
   "cell_type": "code",
   "execution_count": 81,
   "metadata": {},
   "outputs": [],
   "source": [
    "# Leer el archivo .sql\n",
    "with open('Query_polizas_gs.sql', 'r', encoding='utf-8') as file:\n",
    "    sql_query = file.read()"
   ]
  },
  {
   "cell_type": "markdown",
   "metadata": {},
   "source": [
    "## SQL Transformation"
   ]
  },
  {
   "cell_type": "code",
   "execution_count": 82,
   "metadata": {},
   "outputs": [],
   "source": [
    "# Define una expresión regular para encontrar todo lo que está entre '--' y '---'\n",
    "patron_1 = r'--Sumery:(.*?)--Step 1:'\n",
    "\n",
    "patron_2 = r'(Step|LC)(.*?)--'\n",
    "\n",
    "#patron_3 = r'--(.*?)--'\n",
    "\n",
    "# Encuentra todas las coincidencias en el contenido del archivo\n",
    "coincidencias = re.findall(patron_2, sql_query, re.DOTALL)\n",
    "\n",
    "# Se guardar los comentarios en un df y en una lista. \n",
    "list_documentation = []\n",
    "df_documentation = pd.DataFrame ()\n",
    "df_documentation_html = pd.DataFrame ()\n",
    "\n",
    "for coincidencia in coincidencias:\n",
    "    list_documentation.append(str(coincidencia))\n",
    "\n",
    "\n",
    "# Eliminar caracteres especiales de cada elemento de la lista\n",
    "list_documentation = [re.sub(r'(([(]))', '', comentario) for comentario in list_documentation]\n",
    "list_documentation = [re.sub(r'(([)]))', '', comentario) for comentario in list_documentation]\n",
    "list_documentation = [re.sub(r'(([,]))', '', comentario) for comentario in list_documentation]\n",
    "list_documentation = [re.sub(r\"'\", '', comentario) for comentario in list_documentation]\n",
    "\n",
    "df_documentation['comentarios'] = list_documentation\n",
    "\n",
    "df_documentation_html['Order'] = range(1, len(df_documentation) + 1)\n",
    "\n",
    "df_documentation_html['Clase'] = df_documentation['comentarios'].str.split(':').str[0]\n",
    "df_documentation_html['Clase'] = df_documentation_html['Clase'].str.replace('_', '.')\n",
    "df_documentation_html['Clase'] = df_documentation_html['Clase'].str.replace('  ', ' ')\n",
    "\n",
    "df_documentation_html['Coment'] = df_documentation['comentarios'].str.split(':').str[1]\n",
    "\n",
    "\n"
   ]
  },
  {
   "cell_type": "markdown",
   "metadata": {},
   "source": [
    "## HTML Creation"
   ]
  },
  {
   "cell_type": "code",
   "execution_count": null,
   "metadata": {},
   "outputs": [
    {
     "name": "stdout",
     "output_type": "stream",
     "text": [
      "Archivo HTML con estilo generado con éxito.\n"
     ]
    }
   ],
   "source": [
    "import pandas as pd\n",
    "\n",
    "# Convertir el DataFrame a HTML sin índice\n",
    "table_html = df_documentation_html.to_html(index=False, escape=False)\n",
    "\n",
    "# Agregar clases específicas a las columnas\n",
    "table_html = table_html.replace(\"<th>Clase</th>\", '<th class=\"Clase\">Clase</th>')\n",
    "table_html = table_html.replace(\"<th>Coment</th>\", '<th class=\"Coment\">Coment</th>')\n",
    "\n",
    "# Definir el HTML completo con estilos CSS\n",
    "html_string = f\"\"\"\n",
    "<!DOCTYPE html>\n",
    "<html lang=\"es\">\n",
    "<head>\n",
    "    <meta charset=\"UTF-8\">\n",
    "    <meta name=\"viewport\" content=\"width=device-width, initial-scale=1.0\">\n",
    "    <title>Process Tabla de Datos</title>\n",
    "    <style>\n",
    "        body {{\n",
    "            font-family: Arial, sans-serif;\n",
    "            background-color: #2c2c2c;\n",
    "            color: #d3d3d3;\n",
    "            text-align: center;\n",
    "            padding: 20px;\n",
    "        }}\n",
    "        h2 {{\n",
    "            color: #ffffff;\n",
    "        }}\n",
    "        table {{\n",
    "            margin: auto;\n",
    "            border-collapse: collapse;\n",
    "            background-color: #333;\n",
    "            color: #d3d3d3;\n",
    "            table-layout: auto;  /* Ajusta el ancho de las columnas al contenido */\n",
    "        }}\n",
    "        th, td {{\n",
    "            border: 1px solid #ffffff;\n",
    "            padding: 10px;\n",
    "            text-align: center;\n",
    "        }}\n",
    "        th {{\n",
    "            background-color: #444;\n",
    "        }}\n",
    "        .Clase {{\n",
    "            min-width: 100px; /* Ajusta el ancho de la columna Ciudad */\n",
    "        }}\n",
    "    </style>\n",
    "</head>\n",
    "<body>\n",
    "    <h2>Process Coments</h2>\n",
    "    {table_html}\n",
    "</body>\n",
    "</html>\n",
    "\"\"\"\n",
    "\n",
    "# Guardar en un archivo\n",
    "with open(\"tabla.html\", \"w\", encoding=\"utf-8\") as f:\n",
    "    f.write(html_string)\n",
    "\n",
    "print(\"Archivo HTML con estilo generado con éxito.\")\n"
   ]
  }
 ],
 "metadata": {
  "kernelspec": {
   "display_name": "Python 3",
   "language": "python",
   "name": "python3"
  },
  "language_info": {
   "codemirror_mode": {
    "name": "ipython",
    "version": 3
   },
   "file_extension": ".py",
   "mimetype": "text/x-python",
   "name": "python",
   "nbconvert_exporter": "python",
   "pygments_lexer": "ipython3",
   "version": "3.13.1"
  }
 },
 "nbformat": 4,
 "nbformat_minor": 2
}
