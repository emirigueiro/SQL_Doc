{
 "cells": [
  {
   "cell_type": "code",
   "execution_count": 72,
   "metadata": {},
   "outputs": [],
   "source": [
    "import pandas as pd\n",
    "import re"
   ]
  },
  {
   "cell_type": "markdown",
   "metadata": {},
   "source": [
    "## SQL Read"
   ]
  },
  {
   "cell_type": "code",
   "execution_count": 73,
   "metadata": {},
   "outputs": [],
   "source": [
    "# Leer el archivo .sql\n",
    "with open('Query_polizas_gs.sql', 'r', encoding='utf-8') as file:\n",
    "    sql_query = file.read()"
   ]
  },
  {
   "cell_type": "markdown",
   "metadata": {},
   "source": [
    "## SQL Transformation"
   ]
  },
  {
   "cell_type": "code",
   "execution_count": 74,
   "metadata": {},
   "outputs": [],
   "source": [
    "# Define una expresión regular para encontrar todo lo que está entre '--' y '---'\n",
    "patron_1 = r'--Sumery:(.*?)--Step 1:'\n",
    "\n",
    "patron_2 = r'(Step|LC)(.*?)--'\n",
    "\n",
    "#patron_3 = r'--(.*?)--'\n",
    "\n",
    "# Encuentra todas las coincidencias en el contenido del archivo\n",
    "coincidencias = re.findall(patron_2, sql_query, re.DOTALL)\n",
    "\n",
    "# Se guardar los comentarios en un df y en una lista. \n",
    "list_documentation = []\n",
    "df_documentation = pd.DataFrame ()\n",
    "df_documentation_html = pd.DataFrame ()\n",
    "\n",
    "for coincidencia in coincidencias:\n",
    "    list_documentation.append(str(coincidencia))\n",
    "\n",
    "\n",
    "# Eliminar caracteres especiales de cada elemento de la lista\n",
    "list_documentation = [re.sub(r'(([(]))', '', comentario) for comentario in list_documentation]\n",
    "list_documentation = [re.sub(r'(([)]))', '', comentario) for comentario in list_documentation]\n",
    "list_documentation = [re.sub(r'(([,]))', '', comentario) for comentario in list_documentation]\n",
    "list_documentation = [re.sub(r\"'\", '', comentario) for comentario in list_documentation]\n",
    "\n",
    "df_documentation['comentarios'] = list_documentation\n",
    "\n",
    "df_documentation_html['Order'] = range(1, len(df_documentation) + 1)\n",
    "\n",
    "df_documentation_html['Clase'] = df_documentation['comentarios'].str.split(':').str[0]\n",
    "df_documentation_html['Clase'] = df_documentation_html['Clase'].str.replace('_', '.')\n",
    "df_documentation_html['Clase'] = df_documentation_html['Clase'].str.replace('  ', ' ')\n",
    "\n",
    "df_documentation_html['Coment'] = df_documentation['comentarios'].str.split(':').str[1]\n",
    "df_documentation_html['Coment'] = df_documentation_html['Coment'].str.strip()\n",
    "\n",
    "\n"
   ]
  },
  {
   "cell_type": "code",
   "execution_count": 75,
   "metadata": {},
   "outputs": [
    {
     "name": "stdout",
     "output_type": "stream",
     "text": [
      "0     Se obtienen todas las talta de HSBC a excepció...\n",
      "1     Se limitan las altas por id de estructura de g...\n",
      "2     Se limita el universo a la primera póliza cert...\n",
      "3     Proceso para obtener las altas de HSBC que se ...\n",
      "4     Se genera una temporal con las solicitudes gen...\n",
      "5     Se limita el universo solo a las campañas de HSBC\n",
      "6                Trae solamente las gestiones de ventas\n",
      "7     Cruce con cotizaciones para obtener detalles d...\n",
      "8     Generarmo un flg para identifiar aquellas póli...\n",
      "9     Se realiza el cruce con certificados utilizand...\n",
      "10    Generamos un flg para identifiar aquellas póli...\n",
      "11    Se realiza un cruce con cotizaciones para trae...\n",
      "12    Generarmo un flg para identifiar aquellas póli...\n",
      "13    unificación entre pólizas provenientes de \"est...\n",
      "14        Cruce con certificados para sumar dimensiones\n",
      "15    Preparacion de la tabla de certificados para d...\n",
      "16    Se excluyen aquellas pólizas que fueron traspa...\n",
      "17    Join entre las pólizas de HSBC y la tabla de c...\n",
      "18    Se modifica el número de certif. para los prod...\n",
      "19      Cruce con emisones para traer el dato de premio\n",
      "20                 Preparacion de la tabla de emisiones\n",
      "21    Se filtran los NTYP y se dejan los registros c...\n",
      "22    Me lo comento Joa esto se lo informo Dani Cano...\n",
      "23        Son los registros con última fecha de emisión\n",
      "24    Join entre las polizas de HSBC - Certificados ...\n",
      "25    Se crea un flg para identificar aquellas póliz...\n",
      "26    Se crea un flg para identificar aquellas póliz...\n",
      "27    Identificamos aquellas solicitudes proveniente...\n",
      "28    Cruce con estrucutra de gestión para sumar des...\n",
      "29    Se corrigue el campo punto_venta para que CVT ...\n",
      "30    Unificación con tabla presupuesto HSBC para su...\n",
      "31                                         Final Select\n",
      "Name: Coment, dtype: object\n"
     ]
    }
   ],
   "source": [
    "print(df_documentation_html['Coment'])"
   ]
  },
  {
   "cell_type": "markdown",
   "metadata": {},
   "source": [
    "## HTML Creation"
   ]
  },
  {
   "cell_type": "code",
   "execution_count": 76,
   "metadata": {},
   "outputs": [
    {
     "name": "stdout",
     "output_type": "stream",
     "text": [
      "Archivo HTML con estilo generado con éxito.\n"
     ]
    }
   ],
   "source": [
    "import pandas as pd\n",
    "\n",
    "# Convertir el DataFrame a HTML sin índice\n",
    "table_html = df_documentation_html.to_html(index=False, escape=False)\n",
    "\n",
    "# Agregar clases específicas a las columnas\n",
    "table_html = table_html.replace(\"<th>Clase</th>\", '<th class=\"Clase\">Clase</th>')\n",
    "table_html = table_html.replace(\"<th>Coment</th>\", '<th class=\"Coment\">Coment</th>')\n",
    "\n",
    "# Agregar clases a las celdas de la columna \"Coment\"\n",
    "for i in range(len(df_documentation_html['Coment'])):\n",
    "    table_html = table_html.replace('<td>', '<td class=\"Coment\">', 1)\n",
    "\n",
    "# Definir el HTML completo con estilos CSS\n",
    "html_string = f\"\"\"\n",
    "<!DOCTYPE html>\n",
    "<html lang=\"es\">\n",
    "<head>\n",
    "    <meta charset=\"UTF-8\">\n",
    "    <meta name=\"viewport\" content=\"width=device-width, initial-scale=1.0\">\n",
    "    <title>Process Tabla de Datos</title>\n",
    "    <style>\n",
    "        body {{\n",
    "            font-family: Arial, sans-serif;\n",
    "            background-color: #2c2c2c;\n",
    "            color: #d3d3d3;\n",
    "            text-align: center;\n",
    "            padding: 20px;\n",
    "        }}\n",
    "        h2 {{\n",
    "            color: #ffffff;\n",
    "        }}\n",
    "        table {{\n",
    "            margin: auto;\n",
    "            border-collapse: collapse;\n",
    "            background-color: #333;\n",
    "            color: #d3d3d3;\n",
    "            text-align: left;\n",
    "            table-layout: auto;  /* Ajusta el ancho de las columnas al contenido */\n",
    "        }}\n",
    "        th, td {{\n",
    "            border: 1px solid #ffffff;\n",
    "            padding: 10px;\n",
    "            text-align: left;\n",
    "        }}\n",
    "        th {{\n",
    "            background-color: #444;\n",
    "        }}\n",
    "        .Clase {{\n",
    "            min-width: 100px; /* Ajusta el ancho de la columna Ciudad */\n",
    "        }}\n",
    "\n",
    "    </style>\n",
    "</head>\n",
    "<body>\n",
    "    <h2>Process Coments</h2>\n",
    "    {table_html}\n",
    "</body>\n",
    "</html>\n",
    "\"\"\"\n",
    "\n",
    "# Guardar en un archivo\n",
    "with open(\"tabla.html\", \"w\", encoding=\"utf-8\") as f:\n",
    "    f.write(html_string)\n",
    "\n",
    "print(\"Archivo HTML con estilo generado con éxito.\")\n"
   ]
  }
 ],
 "metadata": {
  "kernelspec": {
   "display_name": "Python 3",
   "language": "python",
   "name": "python3"
  },
  "language_info": {
   "codemirror_mode": {
    "name": "ipython",
    "version": 3
   },
   "file_extension": ".py",
   "mimetype": "text/x-python",
   "name": "python",
   "nbconvert_exporter": "python",
   "pygments_lexer": "ipython3",
   "version": "3.13.1"
  }
 },
 "nbformat": 4,
 "nbformat_minor": 2
}
