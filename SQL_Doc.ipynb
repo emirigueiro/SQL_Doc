{
 "cells": [
  {
   "cell_type": "code",
   "execution_count": 196,
   "metadata": {},
   "outputs": [],
   "source": [
    "import pandas as pd\n",
    "import re"
   ]
  },
  {
   "cell_type": "markdown",
   "metadata": {},
   "source": [
    "## SQL Read"
   ]
  },
  {
   "cell_type": "code",
   "execution_count": 197,
   "metadata": {},
   "outputs": [],
   "source": [
    "# Leer el archivo .sql\n",
    "with open('Query_polizas_gs.sql', 'r', encoding='utf-8') as file:\n",
    "    sql_query = file.read()"
   ]
  },
  {
   "cell_type": "markdown",
   "metadata": {},
   "source": [
    "## SQL Transformation"
   ]
  },
  {
   "cell_type": "code",
   "execution_count": 198,
   "metadata": {},
   "outputs": [],
   "source": [
    "# Define una expresión regular para encontrar todo lo que está entre '--' y '---'\n",
    "patron_1 = r'--Sumery:(.*?)--Step 1:'\n",
    "\n",
    "patron_2 = r'(Step|LC)(.*?)--'\n",
    "\n",
    "#patron_3 = r'--(.*?)--'\n",
    "\n",
    "# Encuentra todas las coincidencias en el contenido del archivo\n",
    "coincidencias = re.findall(patron_2, sql_query, re.DOTALL)\n",
    "\n",
    "# Se guardar los comentarios en un df y en una lista. \n",
    "list_documentation = []\n",
    "df_documentation = pd.DataFrame ()\n",
    "\n",
    "for coincidencia in coincidencias:\n",
    "    list_documentation.append(str(coincidencia))\n",
    "\n",
    "\n",
    "# Eliminar caracteres especiales de cada elemento de la lista\n",
    "list_documentation = [re.sub(r'(([(]))', '', comentario) for comentario in list_documentation]\n",
    "list_documentation = [re.sub(r'(([)]))', '', comentario) for comentario in list_documentation]\n",
    "list_documentation = [re.sub(r'(([,]))', '', comentario) for comentario in list_documentation]\n",
    "list_documentation = [re.sub(r\"'\", '', comentario) for comentario in list_documentation]\n",
    "\n",
    "\n",
    "# Llenar los valores NaN con una cadena vacía\n",
    "\n",
    "\n",
    "# Limpieza de los comentarios en el DF.\n",
    "\n"
   ]
  },
  {
   "cell_type": "code",
   "execution_count": 199,
   "metadata": {},
   "outputs": [
    {
     "name": "stdout",
     "output_type": "stream",
     "text": [
      "['Step  1: Se obtienen todas las talta de HSBC a excepción de las que provienen de campañas', 'LC : Se limitan las altas por id de estructura de gestion', 'LC : Se limita el universo a la primera póliza certificado', 'Step  2: Proceso para obtener las altas de HSBC que se gestionana a travez de campañas', 'Step  2_1: Se genera una temporal con las solicitudes generadas en las campañas de HSBC', 'LC : Se limita el universo solo a las campañas de HSBC', 'LC : Trae solamente las gestiones de ventas', 'Step  2_2: Cruce con cotizaciones para obtener detalles de la solicitud convertida en póliza', 'LC : Generarmo un flg para identifiar aquellas pólizas provenientes de campañas', 'Step  2_3: Se realiza el cruce con certificados utilizando num_solicitud de campañas y NPOLICY de Certificados para traer las dimensiones de ncertipol id_producto id_branch', 'LC : Generamos un flg para identifiar aquellas pólizas provenientes de campañas', 'Step  2_4: Se realiza un cruce con cotizaciones para traer los datos de id_canal y id_subcanal ya que en certificados esta incompleto', 'LC : Generarmo un flg para identifiar aquellas pólizas provenientes de campañas', 'Step  3: unificación entre pólizas provenientes de \"estructura de gestion\" y \"campañias\"', 'Step  4: Cruce con certificados para sumar dimensiones: fec_emi facturacion tiene_siniestro ramo motivo_anulacion y punto de venta', 'Step  4_1: Preparacion de la tabla de certificados para dejar la última actualización de cada registro', 'LC : Se excluyen aquellas pólizas que fueron traspasos ya que no deben ser consideraras altas', 'Step  4_2: Join entre las pólizas de HSBC y la tabla de certificados', 'LC : Se modifica el número de certif. para los productos SIP Id_producto 5000 por que el premio se carga con número de certificado 1', 'Step  5: Cruce con emisones para traer el dato de premio', 'Step  5_1: Preparacion de la tabla de emisiones', 'Step  5_2: Se filtran los NTYP y se dejan los registros con la ultima fecha de emisión', 'LC : Me lo comento Joa esto se lo informo Dani Cano a ella', 'LC : Son los registros con última fecha de emisión', 'Step  5_3: Join entre las polizas de HSBC - Certificados con Emisiones', 'LC : Se crea un flg para identificar aquellas pólizas que no aparecen en \"Certificados\"', 'LC : Se crea un flg para identificar aquellas pólizas que no tiene dato de premio/prima cargado en emmisiones', 'LC : Identificamos aquellas solicitudes provenientes de campañas que no terminan en alta', 'Step  6: Cruce con estrucutra de gestión para sumar descripciones de códigos', 'Step  7: Se corrigue el campo punto_venta para que CVT figure como Telemarketing', 'Step  8: Unificación con tabla presupuesto HSBC para sumar al final de la tabla los registros con los datos correspondientes al prespuesto por producto y punto de venta', 'Step  8: Final Select']\n"
     ]
    }
   ],
   "source": [
    "print(list_documentation)"
   ]
  },
  {
   "cell_type": "markdown",
   "metadata": {},
   "source": [
    "## HTML Creation"
   ]
  },
  {
   "cell_type": "code",
   "execution_count": null,
   "metadata": {},
   "outputs": [],
   "source": [
    "# Crear una plantilla básica de HTML\n",
    "html_template = \"\"\"\n",
    "<!DOCTYPE html>\n",
    "<html lang=\"es\">\n",
    "<head>\n",
    "    <meta charset=\"UTF-8\">\n",
    "    <meta name=\"viewport\" content=\"width=device-width, initial-scale=1.0\">\n",
    "    <title>Lista en HTML</title>\n",
    "    <style>\n",
    "        body {\n",
    "            background-color: #333333; /* Gris oscuro */\n",
    "            color: #CCCCCC; /* Letras gris claro */\n",
    "        }\n",
    "        ul {\n",
    "            list-style-type: none;\n",
    "        }\n",
    "        li {\n",
    "            margin: 5px 0;\n",
    "        }\n",
    "    </style>\n",
    "</head>\n",
    "<body>\n",
    "    <ul>\n",
    "\"\"\"\n",
    "\n",
    "# Agregar cada elemento de la lista como un ítem en una lista HTML\n",
    "for elemento in list_documentation:\n",
    "    html_template += f\"        <li>{elemento}</li>\\n\"\n",
    "\n",
    "# Cerrar la etiqueta de la lista y el cuerpo del HTML\n",
    "html_template += \"\"\"\n",
    "    </ul>\n",
    "</body>\n",
    "</html>\n",
    "\"\"\"\n",
    "\n",
    "# Guardar el contenido HTML en un nuevo archivo\n",
    "with open('SQL_Docs.html', 'w', encoding='utf-8') as file:\n",
    "    file.write(html_template)"
   ]
  }
 ],
 "metadata": {
  "kernelspec": {
   "display_name": "Python 3",
   "language": "python",
   "name": "python3"
  },
  "language_info": {
   "codemirror_mode": {
    "name": "ipython",
    "version": 3
   },
   "file_extension": ".py",
   "mimetype": "text/x-python",
   "name": "python",
   "nbconvert_exporter": "python",
   "pygments_lexer": "ipython3",
   "version": "3.13.1"
  }
 },
 "nbformat": 4,
 "nbformat_minor": 2
}
