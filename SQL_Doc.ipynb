{
 "cells": [
  {
   "cell_type": "code",
   "execution_count": 4,
   "metadata": {},
   "outputs": [],
   "source": [
    "import pandas as pd\n",
    "import re"
   ]
  },
  {
   "cell_type": "markdown",
   "metadata": {},
   "source": [
    "## SQL Read"
   ]
  },
  {
   "cell_type": "code",
   "execution_count": 5,
   "metadata": {},
   "outputs": [],
   "source": [
    "# Leer el archivo .sql\n",
    "with open('Query_polizas_gs.sql', 'r', encoding='utf-8') as file:\n",
    "    sql_query = file.read()"
   ]
  },
  {
   "cell_type": "markdown",
   "metadata": {},
   "source": [
    "## SQL Transformation"
   ]
  },
  {
   "cell_type": "code",
   "execution_count": 6,
   "metadata": {},
   "outputs": [],
   "source": [
    "# Define una expresión regular para encontrar todo lo que está entre '--' y '---'\n",
    "patron_1 = r'--Sumery:(.*?)-----------------------------------------------------------------------------------------------------------------------------'\n",
    "\n",
    "patron_2 = r'(Step|LC)(.*?)--'\n",
    "\n",
    "patron_3 = r'--(.*?)--'\n",
    "\n",
    "# Encuentra todas las coincidencias en el contenido del archivo\n",
    "coincidencias = re.findall(patron_2, sql_query, re.DOTALL)\n",
    "\n",
    "# Se guardar los comentarios en un df y en una lista. \n",
    "list_documentation = []\n",
    "df_documentation = pd.DataFrame ()\n",
    "\n",
    "for coincidencia in coincidencias:\n",
    "    list_documentation.append(str(coincidencia))\n",
    "\n",
    "df_documentation['docs_coments'] =  list_documentation\n",
    "\n",
    "#df_documentation[['step','coment']] = df_documentation['docs_coments'].str.split(':', expand = True)\n",
    "\n",
    "\n",
    "# Llenar los valores NaN con una cadena vacía\n",
    "df_documentation.fillna('', inplace=True)\n",
    "\n",
    "# Limpieza de los comentarios en el DF.\n",
    "\n"
   ]
  },
  {
   "cell_type": "code",
   "execution_count": 7,
   "metadata": {},
   "outputs": [
    {
     "name": "stdout",
     "output_type": "stream",
     "text": [
      "                                         docs_coments\n",
      "0   ('Step', ' 1: Se obtienen todas las talta de H...\n",
      "1   ('LC', ': Se limitan las altas por id de estru...\n",
      "2   ('LC', ': Se limita el universo a la primera p...\n",
      "3   ('Step', ' 2: Proceso para obtener las altas d...\n",
      "4   ('Step', ' 2_1: Se genera una temporal con las...\n",
      "5   ('LC', ': Se limita el universo solo a las cam...\n",
      "6   ('LC', ': Trae solamente las gestiones de vent...\n",
      "7   ('Step', ' 2_2: Cruce con cotizaciones para ob...\n",
      "8   ('LC', ': Generarmo un flg para identifiar aqu...\n",
      "9   ('Step', ' 2_3: Se realiza el cruce con certif...\n",
      "10  ('LC', ': Generamos un flg para identifiar aqu...\n",
      "11  ('Step', ' 2_4: Se realiza un cruce con cotiza...\n",
      "12  ('LC', ': Generarmo un flg para identifiar aqu...\n",
      "13  ('Step', ' 3: unificación entre pólizas proven...\n",
      "14  ('Step', ' 4: Cruce con certificados para suma...\n",
      "15  ('Step', ' 4_1: Preparacion de la tabla de cer...\n",
      "16  ('LC', ': Se excluyen aquellas pólizas que fue...\n",
      "17  ('Step', ' 4_2: Join entre las pólizas de HSBC...\n",
      "18  ('LC', ': Se modifica el número de certif. par...\n",
      "19  ('Step', ' 5: Cruce con emisones para traer el...\n",
      "20  ('Step', ' 5_1: Preparacion de la tabla de emi...\n",
      "21  ('Step', ' 5_2: Se filtran los NTYP y se dejan...\n",
      "22  ('LC', ': Me lo comento Joa (esto se lo inform...\n",
      "23  ('LC', ': Son los registros con última fecha d...\n",
      "24  ('Step', ' 5_3: Join entre las polizas de HSBC...\n",
      "25  ('LC', ': Se crea un flg para identificar aque...\n",
      "26  ('LC', ': Se crea un flg para identificar aque...\n",
      "27  ('LC', ': Identificamos aquellas solicitudes p...\n",
      "28  ('Step', ' 6: Cruce con estrucutra de gestión ...\n",
      "29  ('Step', ' 7: Se corrigue el campo punto_venta...\n",
      "30  ('Step', ' 8: Unificación con tabla presupuest...\n",
      "31                       ('Step', ' 8: Final Select')\n"
     ]
    }
   ],
   "source": [
    "print(df_documentation)"
   ]
  },
  {
   "cell_type": "markdown",
   "metadata": {},
   "source": [
    "## HTML Creation"
   ]
  },
  {
   "cell_type": "code",
   "execution_count": 10,
   "metadata": {},
   "outputs": [],
   "source": [
    "# Crear una plantilla básica de HTML\n",
    "html_template = \"\"\"\n",
    "<!DOCTYPE html>\n",
    "<html lang=\"es\">\n",
    "<head>\n",
    "    <meta charset=\"UTF-8\">\n",
    "    <meta name=\"viewport\" content=\"width=device-width, initial-scale=1.0\">\n",
    "    <title>Lista en HTML</title>\n",
    "</head>\n",
    "<body>\n",
    "    <ul>\n",
    "\"\"\"\n",
    "\n",
    "# Agregar cada elemento de la lista como un ítem en una lista HTML\n",
    "for elemento in list_documentation:\n",
    "    html_template += f\"        <li>{elemento}</li>\\n\"\n",
    "\n",
    "# Cerrar la etiqueta de la lista y el cuerpo del HTML\n",
    "html_template += \"\"\"\n",
    "    </ul>\n",
    "</body>\n",
    "</html>\n",
    "\"\"\"\n",
    "\n",
    "# Guardar el contenido HTML en un nuevo archivo\n",
    "with open('lista.html', 'w', encoding='utf-8') as file:\n",
    "    file.write(html_template)"
   ]
  }
 ],
 "metadata": {
  "kernelspec": {
   "display_name": "Python 3",
   "language": "python",
   "name": "python3"
  },
  "language_info": {
   "codemirror_mode": {
    "name": "ipython",
    "version": 3
   },
   "file_extension": ".py",
   "mimetype": "text/x-python",
   "name": "python",
   "nbconvert_exporter": "python",
   "pygments_lexer": "ipython3",
   "version": "3.13.1"
  }
 },
 "nbformat": 4,
 "nbformat_minor": 2
}
