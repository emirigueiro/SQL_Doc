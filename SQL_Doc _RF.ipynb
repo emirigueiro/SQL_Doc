{
 "cells": [
  {
   "cell_type": "code",
   "execution_count": 238,
   "metadata": {},
   "outputs": [],
   "source": [
    "import pandas as pd\n",
    "import re\n",
    "from itertools import chain  "
   ]
  },
  {
   "cell_type": "markdown",
   "metadata": {},
   "source": [
    "## SQL Read"
   ]
  },
  {
   "cell_type": "code",
   "execution_count": 239,
   "metadata": {},
   "outputs": [],
   "source": [
    "# Leer el archivo .sql\n",
    "with open('Query_polizas_gs.sql', 'r', encoding='utf-8') as file:\n",
    "    sql_query = file.read()"
   ]
  },
  {
   "cell_type": "markdown",
   "metadata": {},
   "source": [
    "## Summary Tranformation "
   ]
  },
  {
   "cell_type": "code",
   "execution_count": 240,
   "metadata": {},
   "outputs": [],
   "source": [
    "# Define una expresión regular para encontrar la descripcion general de la query.\n",
    "patron = r'--Summary:(.*?)Related Queries:'\n",
    "\n",
    "# Encuentra todas las coincidencias en el contenido del archivo\n",
    "coincidencias = re.findall(patron, sql_query, re.DOTALL)\n",
    "\n",
    "# Concatenar las coincidencias en una sola cadena de texto\n",
    "summary_docs = '\\n'.join(coincidencias).strip()\n",
    "summary_docs = summary_docs.replace('-', ' ')\n",
    "\n",
    "# Resaltar en negrita algunas palabras en summary_docs y agregar iconos al principio\n",
    "summary_docs = summary_docs.replace('Created Date:','<i class=\"fas fa-calendar-alt icono\"></i> <b style=\"color: #334559;\">Created Date:</b>')\n",
    "summary_docs = summary_docs.replace('Description:', '<i class=\"fa-solid fa-pen-to-square icono\"></i> <b style=\"color: #334559;\">Description:</b>')\n",
    "summary_docs = summary_docs.replace('References:', '<i class=\"fas fa-book icono\"></i> <b style=\"color: #334559;\">References:</b>')   \n",
    "\n",
    "# Agregar un título dentro de summary_docs\n",
    "summary_docs = f\"<h4 style='margin: 5px 0; font-size: 24px; color: #283747; border-bottom: 1.5px solid #ccc;'>Resumen de la consulta</h4>\\n{summary_docs}\"\n"
   ]
  },
  {
   "cell_type": "markdown",
   "metadata": {},
   "source": [
    "## Related Queries\n"
   ]
  },
  {
   "cell_type": "code",
   "execution_count": 241,
   "metadata": {},
   "outputs": [],
   "source": [
    "# Define una expresión regular para encontrar la secciòn de related queries.\n",
    "patron = r'--Related Queries:(.*?)Sources:'\n",
    "\n",
    "# Encuentra todas las coincidencias en el contenido del archivo\n",
    "coincidencias = re.findall(patron, sql_query, re.DOTALL)\n",
    "\n",
    "# Concatenar las coincidencias en una sola cadena de texto\n",
    "related_docs = '\\n'.join(coincidencias).strip()\n",
    "related_docs  = related_docs.replace('-', ' ')\n",
    "related_docs  = related_docs.replace(' ', '')\n",
    "\n",
    "# Dividir el contenido en líneas y agregar un icono a cada línea para related_docs\n",
    "icono_related = '<i class=\"fa fa-file-text icono\"></i>' \n",
    "related_docs = related_docs.split('\\n')\n",
    "related_docs = '\\n'.join([f\"{icono_related} {line}\" if line.strip() else line for line in related_docs])\n",
    "\n",
    "\n",
    "#'<i class=\"fa fa-sign-out icono\"></i>'\n",
    " #<i class=\"fa fa-file-text\" aria-hidden=\"true\"></i>\n",
    "\n",
    "# Agregar un título dentro de related_docs\n",
    "related_docs = f\"<h4 style='margin: 5px 0; font-size: 24px; color: #283747; border-bottom: 1.5px solid #ccc;'>Queries relacionadas</h4>\\n{related_docs}\""
   ]
  },
  {
   "cell_type": "markdown",
   "metadata": {},
   "source": [
    "## Source Transformation"
   ]
  },
  {
   "cell_type": "code",
   "execution_count": 242,
   "metadata": {},
   "outputs": [],
   "source": [
    "# Define una expresión regular para encontrar la descripcion general de la query.\n",
    "patron = r'--Sources:(.*?)Product 1:'\n",
    "\n",
    "# Encuentra todas las coincidencias en el contenido del archivo\n",
    "coincidencias = re.findall(patron, sql_query, re.DOTALL)\n",
    "\n",
    "# Concatenar las coincidencias en una sola cadena de texto\n",
    "source_docs = '\\n'.join(coincidencias).strip()\n",
    "source_docs  = source_docs .replace('-', ' ')\n",
    "source_docs  = source_docs .replace(' ', '')\n",
    "\n",
    "# Dividir el contenido en líneas y agregar un icono a cada línea para source_docs\n",
    "icono_source = '<i class=\"fa fa-sign-out icono\"></i>'  \n",
    "source_docs = source_docs.split('\\n')\n",
    "source_docs = '\\n'.join([f\"{icono_source} {line}\" if line.strip() else line for line in source_docs])\n",
    "\n",
    "# Agregar un título dentro de source_docs\n",
    "source_docs = f\"<h4 style='margin: 5px 0; font-size: 24px; color: #283747; border-bottom: 1.5px solid #ccc;'>Fuentes consumidas</h4>\\n{source_docs}\""
   ]
  },
  {
   "cell_type": "markdown",
   "metadata": {},
   "source": [
    "## Products Tranformation"
   ]
  },
  {
   "cell_type": "code",
   "execution_count": 243,
   "metadata": {},
   "outputs": [],
   "source": [
    "# Define una expresión regular para encontrar la descripcion general de la query.\n",
    "patron = r'(Product.*?)(?=Historical Versions:)'\n",
    "\n",
    "# Encuentra todas las coincidencias en el contenido del archivo\n",
    "coincidencias = re.findall(patron, sql_query, re.DOTALL)\n",
    "\n",
    "# Concatenar las coincidencias en una sola cadena de texto\n",
    "products_docs = '\\n'.join(coincidencias).strip()\n",
    "products_docs  = products_docs .replace('-', ' ')\n",
    "\n",
    "# Se agrega un espacio delate de Product 1 para que quede alineado\n",
    "products_docs  = products_docs .replace('Product 1', '  Product 1')\n",
    "\n",
    "#Resaltar en negrita algunas palabras en summary_docs y agregar iconos al principio\n",
    "products_docs = products_docs.replace('Product', '<i class=\"fa-solid fa-box-archive icono_2\"></i> <b style=\"color: #334559;\"> Product </b>')\n",
    "products_docs = products_docs.replace('Description:', '   <i class=\"fa-solid fa-pen-to-square icono\"></i> <b style=\"color: #334559;\"> Description:</b>')\n",
    "products_docs = products_docs.replace('Name:', '   <i class=\"fa-solid fa-hashtag icono\"></i></i> <b style=\"color: #334559;\"> Name:</b>')\n",
    "products_docs = products_docs.replace('Type:', '   <i class=\"fa-solid fa-layer-group icono\"></i> <b style=\"color: #334559;\">Type:</b>')\n",
    "products_docs = products_docs.replace('Process:', '   <i class=\"fa-solid fa-code-compare icono\"></i> <b style=\"color: #334559;\">Process:</b>')\n",
    "\n",
    "# Agregar un título dentro de source_docs\n",
    "products_docs = f\"<h4 style='margin: 5px 0; font-size: 24px; color: #283747; border-bottom: 1.5px solid #ccc;'>Productos generados</h4>\\n{products_docs}\""
   ]
  },
  {
   "cell_type": "markdown",
   "metadata": {},
   "source": [
    "## Hitorical Versions:"
   ]
  },
  {
   "cell_type": "code",
   "execution_count": 244,
   "metadata": {},
   "outputs": [],
   "source": [
    "# Define una expresión regular para encontrar el detalle de las versiones historicas.\n",
    "patron = r'--Historical Versions:(.*?)Step'\n",
    "\n",
    "# Encuentra todas las coincidencias en el contenido del archivo\n",
    "coincidencias = re.findall(patron, sql_query, re.DOTALL)\n",
    "\n",
    "# Concatenar las coincidencias en una sola cadena de texto\n",
    "versions_docs = '\\n'.join(coincidencias).strip()\n",
    "versions_docs  = versions_docs .replace('-', ' ')\n",
    "\n",
    "# Cambiar el color de todo lo que esté entre paréntesis en versions_docs\n",
    "versions_docs = re.sub(r'\\((.*?)\\)', r'<span style=\"color: #2e86c1;\">(\\1)</span>', versions_docs)\n",
    "\n",
    "# Dividir el contenido en líneas y agregar un icono a cada línea para source_docs\n",
    "icono_versions = '<i class=\"fa-solid fa-map-pin icono\"></i>' \n",
    "versions_docs = versions_docs.split('\\n')\n",
    "versions_docs = '\\n'.join([f\"{icono_versions} {line}\" if line.strip() else line for line in versions_docs])\n",
    "\n",
    "# Agregar un título dentro de versions_docs\n",
    "versions_docs = f\"<h4 style='margin: 5px 0; font-size: 24px; color: #283747; border-bottom: 1.5px solid #ccc;'>Historical Versions</h4>\\n{versions_docs}\""
   ]
  },
  {
   "cell_type": "markdown",
   "metadata": {},
   "source": [
    "## Comments Transformation"
   ]
  },
  {
   "cell_type": "code",
   "execution_count": 245,
   "metadata": {},
   "outputs": [],
   "source": [
    "# Define una expresión regular para encontrar todo los comentarios\n",
    "patron = r'(Step|LC)(.*?)--'\n",
    "\n",
    "# Encuentra todas las coincidencias en el contenido del archivo\n",
    "coincidencias = re.findall(patron, sql_query, re.DOTALL)\n",
    "\n",
    "# Se guardar los comentarios en un df y en una lista. \n",
    "list_documentation = []\n",
    "df_documentation = pd.DataFrame ()\n",
    "df_documentation_html = pd.DataFrame ()\n",
    "\n",
    "for coincidencia in coincidencias:\n",
    "    list_documentation.append(str(coincidencia))\n",
    "\n",
    "\n",
    "# Eliminar caracteres especiales de cada elemento de la lista\n",
    "list_documentation = [re.sub(r\"\\)$\", \"\", comentario, count=1) for comentario in list_documentation]\n",
    "list_documentation = [re.sub(r\"^\\(\", \"\", comentario, count=1) for comentario in list_documentation]\n",
    "list_documentation = [re.sub(r\"'\", '', comentario) for comentario in list_documentation]\n",
    "\n",
    "# Se guardan los comentarios en un DataFrame\n",
    "df_documentation['comentarios'] = list_documentation\n",
    "df_documentation_html['Comment'] = df_documentation['comentarios'].str.split(':').str[1]\n",
    "\n",
    "# Se crea la campo Order que contiene el orden secuencial de los comentarios\n",
    "df_documentation_html['Order'] = range(1, len(df_documentation) + 1)\n",
    "\n",
    "# Se crea el campo Clase que identifica la clase a la que pertenece cada comentario\n",
    "df_documentation_html['Clase'] = df_documentation['comentarios'].str.split(':').str[0]\n",
    "df_documentation_html['Clase'] = df_documentation_html['Clase'].str.replace('_', '.')\n",
    "df_documentation_html['Clase'] = df_documentation_html['Clase'].str.replace('  ', ' ')\n",
    "df_documentation_html['Clase'] = df_documentation_html['Clase'].str.replace(',', ' ')\n",
    "\n",
    "# Funcion para identificar a que linea pertenece cada comentario\n",
    "def line_count(cadena, sql):\n",
    "    line_tmp = []\n",
    "    line = [i + 1 for i, linea in enumerate(sql.splitlines()) if cadena in linea]\n",
    "    line_tmp.append(line)\n",
    "    return line_tmp\n",
    "\n",
    "# Se crea el campo line_number ejecuntando la función line_count\n",
    "line_number = []\n",
    "\n",
    "for elemento in df_documentation_html['Comment']:\n",
    "    line_number.append(line_count(elemento, sql_query)) \n",
    "\n",
    "line_number = list(chain(*line_number))\n",
    "\n",
    "df_documentation_html['Line Number'] = line_number  \n",
    "\n",
    "# Reemplazar \"LC\" por \"Line Comment\" en la columna 'Comment'\n",
    "df_documentation_html['Clase'] = df_documentation_html['Clase'].str.replace('LC', 'Line Comment', regex=False)\n",
    "\n",
    "# Orden de las columnas del DataFrame\n",
    "df_documentation_html = df_documentation_html[['Order', 'Clase', 'Comment', 'Line Number']]\n",
    "\n",
    "# Convertir el DataFrame a HTML sin índice\n",
    "table_html = df_documentation_html.to_html(index=False, escape=False)\n",
    "\n",
    "# Agregar clases específicas a las columnas\n",
    "table_html = table_html.replace(\"<th>Clase</th>\", '<th class=\"Clase\">Clase</th>')\n",
    "table_html = table_html.replace(\"<th>Comment</th>\", '<th class=\"Comment\">Comment</th>')\n",
    "\n",
    "# Agregar clases a las celdas de la columna \"Comment\"\n",
    "for i in range(len(df_documentation_html['Comment'])):\n",
    "    table_html = table_html.replace('<td>', '<td class=\"Comment\">', 1)\n",
    "\n",
    "\n"
   ]
  },
  {
   "cell_type": "markdown",
   "metadata": {},
   "source": [
    "## HTML Creation"
   ]
  },
  {
   "cell_type": "code",
   "execution_count": 246,
   "metadata": {},
   "outputs": [
    {
     "name": "stdout",
     "output_type": "stream",
     "text": [
      "Archivo HTML generado con éxito.\n"
     ]
    }
   ],
   "source": [
    "# Definir el HTML completo con estilos CSS\n",
    "html_string = f\"\"\"\n",
    "<!DOCTYPE html>\n",
    "<html lang=\"es\">\n",
    "<head>\n",
    "    <meta charset=\"UTF-8\">\n",
    "    <meta name=\"viewport\" content=\"width=device-width, initial-scale=1.0\">\n",
    "    <title>Process Tabla de Datos</title>\n",
    "    <link rel=\"stylesheet\" href=\"https://cdnjs.cloudflare.com/ajax/libs/font-awesome/6.0.0-beta3/css/all.min.css\">\n",
    "    <style>\n",
    "        body {{\n",
    "            font-family: Arial, sans-serif;\n",
    "            background-color: #2c2c2c;\n",
    "            color: #fffcf2;\n",
    "            text-align: left;\n",
    "            padding: 25px;\n",
    "        }}\n",
    "        h2 {{\n",
    "            color: #fffcf2;\n",
    "        }}\n",
    "        table {{\n",
    "            margin: auto;\n",
    "            border-collapse: collapse;\n",
    "            background-color: #252422;\n",
    "            color: #fffcf2;\n",
    "            text-align: left;\n",
    "            width: 100%; / Ajusta el ancho al 100% del contenedor\n",
    "            table-layout: auto;  /* Ajusta el ancho de las columnas al contenido */\n",
    "        }}\n",
    "        th, td {{\n",
    "            border-left: none;\n",
    "            border-right: none;\n",
    "            border-top: 0.5px solid #555555;\n",
    "            border-bottom: 0.5px solid #555555;\n",
    "            padding: 10px;\n",
    "            text-align: left;\n",
    "            \n",
    "        }}\n",
    "        th {{\n",
    "            background-color: #444;\n",
    "        }}\n",
    "        .Clase {{\n",
    "            min-width: 100px; /* Ajusta el ancho de la columna Ciudad */\n",
    "        }}\n",
    "        .summary {{\n",
    "            font-family: Arial, sans-serif;\n",
    "            font-size: 17px; /* Aumenta el tamaño de la letra */\n",
    "            background-color: #fffcf2;\n",
    "            color: #252422;\n",
    "            text-align: left;\n",
    "            margin: 10px 0 10px 0; /* Ajusta el margen superior e inferior */\n",
    "            padding: 10px;\n",
    "            border-radius: 10px; /* Redondea los bordes */\n",
    "            padding-left: 20px; /* Añade sangría a cada elemento */ \n",
    "        }}\n",
    "        .icono {{\n",
    "            color: #2e86c1; /* Cambia el color del icono */\n",
    "        \n",
    "        }}\n",
    "        .icono_2 {{\n",
    "            color: #21618c; /* Cambia el color del icono */\n",
    "\n",
    "        }}\n",
    "        .source {{\n",
    "            font-family: Arial, sans-serif;\n",
    "            font-size: 17px; /* Aumenta el tamaño de la letra */\n",
    "            background-color: #fffcf2;\n",
    "            color: #343434;\n",
    "            text-align: left;\n",
    "            margin: 10px 0 10px 0; /* Ajusta el margen superior e inferior */\n",
    "            padding: 10px;\n",
    "            border-radius: 10px; /* Redondea los bordes */\n",
    "            padding-left: 20px; /* Añade sangría a cada elemento */\n",
    "        }}\n",
    "    </style>\n",
    "</head>\n",
    "<body>\n",
    "    <h2>Summary</h2>\n",
    "    <pre class=\"summary\">{summary_docs}</pre>\n",
    "     <pre class=\"summary\">{related_docs}</pre>\n",
    "    <pre class=\"source\">{source_docs}</pre>\n",
    "    <pre class=\"source\">{products_docs}</pre>\n",
    "    <pre class=\"source\">{versions_docs}</pre>\n",
    "    <h2>Process Comments</h2>\n",
    "    {table_html}\n",
    "</body>\n",
    "</html>\n",
    "\"\"\"\n",
    "\n",
    "# Guardar en un archivo\n",
    "with open(\"tabla.html\", \"w\", encoding=\"utf-8\") as f:\n",
    "    f.write(html_string)\n",
    "\n",
    "print(\"Archivo HTML generado con éxito.\")\n"
   ]
  }
 ],
 "metadata": {
  "kernelspec": {
   "display_name": "Python 3",
   "language": "python",
   "name": "python3"
  },
  "language_info": {
   "codemirror_mode": {
    "name": "ipython",
    "version": 3
   },
   "file_extension": ".py",
   "mimetype": "text/x-python",
   "name": "python",
   "nbconvert_exporter": "python",
   "pygments_lexer": "ipython3",
   "version": "3.13.1"
  }
 },
 "nbformat": 4,
 "nbformat_minor": 2
}
